{
 "cells": [
  {
   "cell_type": "markdown",
   "id": "62be0372-f48f-4024-83d6-3e39665496b6",
   "metadata": {},
   "source": [
    "Running using docker vanvalenlab/deepcell-tf:latest-gpu  \n",
    "Author: Wenwen Zhang, Jiarong Li (Editor), Heqi Wang, Jiao Yuan"
   ]
  },
  {
   "cell_type": "code",
   "execution_count": 1,
   "id": "618da9bc-3a31-48dd-9d1b-2cb5c20ac880",
   "metadata": {
    "tags": []
   },
   "outputs": [
    {
     "name": "stderr",
     "output_type": "stream",
     "text": [
      "2024-05-13 14:24:47.634374: I tensorflow/core/platform/cpu_feature_guard.cc:151] This TensorFlow binary is optimized with oneAPI Deep Neural Network Library (oneDNN) to use the following CPU instructions in performance-critical operations:  AVX2 AVX512F FMA\n",
      "To enable them in other operations, rebuild TensorFlow with the appropriate compiler flags.\n",
      "2024-05-13 14:24:48.304391: I tensorflow/core/common_runtime/gpu/gpu_device.cc:1525] Created device /job:localhost/replica:0/task:0/device:GPU:0 with 20286 MB memory:  -> device: 0, name: NVIDIA GeForce RTX 3090, pci bus id: 0000:3b:00.0, compute capability: 8.6\n"
     ]
    },
    {
     "name": "stdout",
     "output_type": "stream",
     "text": [
      "WARNING:tensorflow:No training configuration found in save file, so the model was *not* compiled. Compile it manually.\n"
     ]
    }
   ],
   "source": [
    "import os\n",
    "import pandas as pd\n",
    "import numpy as np\n",
    "import matplotlib as mpl\n",
    "import matplotlib.pyplot as plt\n",
    "\n",
    "import tifffile\n",
    "from PIL import Image\n",
    "\n",
    "from deepcell.utils.plot_utils import create_rgb_image, make_outline_overlay\n",
    "from deepcell_toolbox import erode_edges\n",
    "\n",
    "# from skimage.exposure import rescale_intensity\n",
    "# from skimage.measure import label, regionprops, regionprops_table\n",
    "\n",
    "from mesmer_function import *\n",
    "\n",
    "from deepcell.applications import Mesmer\n",
    "app = Mesmer()"
   ]
  },
  {
   "cell_type": "code",
   "execution_count": 2,
   "id": "a0aca8ac-e147-4f30-bf3e-7e22a320246a",
   "metadata": {
    "tags": []
   },
   "outputs": [
    {
     "name": "stdout",
     "output_type": "stream",
     "text": [
      "Training Resolution: 0.5 microns per pixel\n"
     ]
    }
   ],
   "source": [
    "print('Training Resolution:', app.model_mpp, 'microns per pixel')"
   ]
  },
  {
   "cell_type": "markdown",
   "id": "b6029cf9-c1d3-48dc-8aad-ec15901bd0d2",
   "metadata": {
    "tags": []
   },
   "source": [
    "### 1. Image segmentation"
   ]
  },
  {
   "cell_type": "code",
   "execution_count": 3,
   "id": "4e24d31d-cead-4e6d-9e3a-069446bf9489",
   "metadata": {
    "tags": []
   },
   "outputs": [],
   "source": [
    "# The order of the image and the marker_list must be the same\n",
    "marker_list = ['80ArAr','131Xe','SMA','Collagen_I','Vimentin','CD14','CK19','CD16','CD163','PanCK','CD15',\n",
    "'PD-L1','CD31','CD45','CD57','CD117','FoxP3','CD4','E-cadherin','CD68','CD11c',\n",
    "'CD20','CD8A','CD206','Arg1','PD-1','CD66b','GranzymeB','Ki67','CTLA-4','CD3',\n",
    "'AFP','CD39','CD69','HLA-DR','GPC3','HepPar1','DNA1','DNA2','ICSK1','ICSK2','ICSK3']\n",
    "# the keys of the dict can be whatever you like\n",
    "in_nuc_marker_kwargs = {'nuc_channel': ['DNA1']}\n",
    "in_mem_marker_kwargs = {# 'mem_channel_1': ['HepPar1','AFP','Arg1','GPC3'], \n",
    "                        # 'mem_channel_3':['SMA','Vimentin','CD31'],\n",
    "                        # 'mem_channel_2': ['CD45','CD3', 'CD68',  'CD8A', 'CD66b'],\n",
    "                        'mem_channel_1': ['ICSK1','ICSK2','ICSK3']\n",
    "}\n",
    "\n",
    "# in_mem_marker_kwargs = {'mem_channel_1': ['ICSK1','ICSK2','ICSK3']}"
   ]
  },
  {
   "cell_type": "code",
   "execution_count": 4,
   "id": "a1709a29-436d-49cf-aae8-d53584787fc0",
   "metadata": {
    "tags": []
   },
   "outputs": [
    {
     "name": "stderr",
     "output_type": "stream",
     "text": [
      "2024-05-13 14:25:00.689139: I tensorflow/stream_executor/cuda/cuda_dnn.cc:368] Loaded cuDNN version 8100\n"
     ]
    },
    {
     "name": "stdout",
     "output_type": "stream",
     "text": [
      "0328_ROI_029_29.tiff\n",
      "0328_ROI_061_61.tiff\n"
     ]
    }
   ],
   "source": [
    "import os\n",
    "tiff_path='/data/tiff/'\n",
    "file_ls=os.listdir(tiff_path)\n",
    "\n",
    "for file in file_ls:\n",
    "    img_multipledxed=tifffile.imread(tiff_path+file)\n",
    "    img_norm=Denoise_img(img_multipledxed,98)\n",
    "\n",
    "    img_mesmer=Generate_mesmer_input(img_norm,marker_list,in_nuc_marker_kwargs,in_mem_marker_kwargs)\n",
    "    # plot membrane channel and nuclear channel\n",
    "    # Plot_mesmer_input(img_mesmer)\n",
    "\n",
    "    # segmentation_predictions=app.predict(img_mesmer,preprocess_kwargs={'percentile':99.9},image_mpp=1,compartment='nuclear')\n",
    "    try:\n",
    "        segmentation_predictions=app.predict(img_mesmer,preprocess_kwargs={'percentile':99.9},image_mpp=1,compartment='whole-cell')\n",
    "    except Exception:\n",
    "        print(file)\n",
    "        continue\n",
    "    \n",
    "    # plot membrane channel and nuclear channel with segmentation outline\n",
    "    # rgb_img=create_rgb_image(img_mesmer,channel_colors=['blue', 'green'])\n",
    "    # Plot_segmentation_result(rgb_img,segmentation_predictions)\n",
    "\n",
    "    tifffile.imwrite('/data/'+file.split('.')[0]+'_mask.tiff',segmentation_predictions[0,:,:,0])"
   ]
  },
  {
   "cell_type": "markdown",
   "id": "d15a4abd-1b83-44b6-b3b7-b5d3b35124d7",
   "metadata": {},
   "source": [
    "### 2. Segmentation result comparison"
   ]
  },
  {
   "cell_type": "code",
   "execution_count": null,
   "id": "babec598-14e1-4b76-a8de-236f817eaced",
   "metadata": {},
   "outputs": [],
   "source": []
  }
 ],
 "metadata": {
  "kernelspec": {
   "display_name": "Python 3 (ipykernel)",
   "language": "python",
   "name": "python3"
  },
  "language_info": {
   "codemirror_mode": {
    "name": "ipython",
    "version": 3
   },
   "file_extension": ".py",
   "mimetype": "text/x-python",
   "name": "python",
   "nbconvert_exporter": "python",
   "pygments_lexer": "ipython3",
   "version": "3.8.10"
  }
 },
 "nbformat": 4,
 "nbformat_minor": 5
}
